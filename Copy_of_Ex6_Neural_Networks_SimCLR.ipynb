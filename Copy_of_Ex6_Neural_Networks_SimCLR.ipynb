{
  "nbformat": 4,
  "nbformat_minor": 0,
  "metadata": {
    "colab": {
      "provenance": [],
      "include_colab_link": true
    },
    "kernelspec": {
      "name": "python3",
      "display_name": "Python 3"
    },
    "accelerator": "GPU"
  },
  "cells": [
    {
      "cell_type": "markdown",
      "metadata": {
        "id": "view-in-github",
        "colab_type": "text"
      },
      "source": [
        "<a href=\"https://colab.research.google.com/github/orspiegel/Algorithms/blob/main/Copy_of_Ex6_Neural_Networks_SimCLR.ipynb\" target=\"_parent\"><img src=\"https://colab.research.google.com/assets/colab-badge.svg\" alt=\"Open In Colab\"/></a>"
      ]
    },
    {
      "cell_type": "markdown",
      "metadata": {
        "id": "mj5Gc4rTncj6"
      },
      "source": [
        "<h1><center><b>Neural Networks</b></center></h1>\n",
        "<h3><center>Exercise 6</center></h3>"
      ]
    },
    {
      "cell_type": "markdown",
      "metadata": {
        "id": "6puOk_GYzsiK"
      },
      "source": [
        "Your Names:\n",
        "<font color='red'>\n",
        "FirstName1 LastName1, 123456789\n",
        "FirstName2 LastName2, 987654321\n",
        "</font>\n"
      ]
    },
    {
      "cell_type": "markdown",
      "metadata": {
        "id": "SbMi2kxOzui_"
      },
      "source": [
        "____________"
      ]
    },
    {
      "cell_type": "markdown",
      "metadata": {
        "id": "RakOdZ9Mm5Q8"
      },
      "source": [
        "In this exercise we will:\n",
        "Implement the SimCLR algorithm and train a model on ImageNet-5.\n"
      ]
    },
    {
      "cell_type": "markdown",
      "metadata": {
        "id": "iisJZQc9P3du"
      },
      "source": [
        "**Instructions:**\n",
        "- Create a copy of this notebook and implement your code in it.\n",
        "- Make sure you don't leave empty cells or empty answers.\n",
        "- When you finish the assignment, share the notebook with the course email: nn4ns2023@gmail.com\n",
        "- submission deadline: 29/6/2023\n",
        "- Your submission should includ the outputs (don't delete them before the submission)"
      ]
    },
    {
      "cell_type": "markdown",
      "metadata": {
        "id": "iYfdZr_Qzxav"
      },
      "source": [
        "### **1. Setup**\n",
        "Before running code on Colab:\n",
        "- Go to \"Runtime\" -> \"Change runtime type\", and make sure to choose \"GPU\" for Hardware accelerator."
      ]
    },
    {
      "cell_type": "markdown",
      "metadata": {
        "id": "oam3sgyn4KYC"
      },
      "source": [
        "### **2. Self Supervised Learning (100 points)**"
      ]
    },
    {
      "cell_type": "markdown",
      "metadata": {
        "id": "_d-XRV0W4Pwa"
      },
      "source": [
        "In this section we are going to implement the simCLR loss and train a model on a small version of ImageNet called ImageNet-5, which has only 5 categories instead of 1000."
      ]
    },
    {
      "cell_type": "markdown",
      "metadata": {
        "id": "RtSMpx6wCm4E"
      },
      "source": [
        "[simCLR](https://arxiv.org/pdf/2002.05709.pdf)  (A Simple Framework for Contrastive Learning of Visual Representations) was proposed by Chen et al in 2020 for the \"Unsupervised representation learning\" task.\n",
        "The goal of this task is to learn a good representation of the data without labels!\n",
        "The authors present a simple self-supervised framework for contrastive learning of visual representations."
      ]
    },
    {
      "cell_type": "markdown",
      "metadata": {
        "id": "XrAYCbTeEKgi"
      },
      "source": [
        "Some basic concepts before we start:\n",
        "\n",
        "**Self-supervised learning:**\n",
        "Self-supervised learning is a learning technique using supervised learning with unlabeled data. The idea is to create labels for another task (called pretext task) that are easy to create automatically and are informative about the main task .\n",
        "\n",
        "**Contrastive Learning:**\n",
        "Contrastive learning is the idea of learning representations by enforcing a similar representation of elements that are known to be semantically equivalent, and push away representations of dissimilar elements.\n",
        "\n",
        "**SimCLR:**\n",
        "The idea of SimCLR framework is simple:\n",
        "An image is taken and random transformations are applied to it to get a pair of two augmented images\n",
        "$x_i$ and $x_j$. Each image in that pair is passed through an encoder to get representations. Then a non-linear fully connected layer is applied to get representations z. The task is to maximize the similarity between these two representations\n",
        "$z_i$ and $z_j$ for the same image.\n"
      ]
    },
    {
      "cell_type": "markdown",
      "metadata": {
        "id": "9KNDmTX-Hm7r"
      },
      "source": [
        "<center>\n",
        "<img src=\"data:image/png;base64,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\"\n",
        "</center>"
      ]
    },
    {
      "cell_type": "markdown",
      "metadata": {
        "id": "Ry84Ab9wCQNc"
      },
      "source": [
        "Go over the [paper](https://arxiv.org/pdf/2002.05709.pdf) and this [tutorial](https://amitness.com/2020/03/illustrated-simclr/) to get a better idea of how simCLR works and the intuition behind it."
      ]
    },
    {
      "cell_type": "markdown",
      "metadata": {
        "id": "gCyF2rD1FcCF"
      },
      "source": [
        "#### **2.1 Preparations**"
      ]
    },
    {
      "cell_type": "markdown",
      "metadata": {
        "id": "pio-QDCVFW67"
      },
      "source": [
        "We start by downloading the data and creating a custom pytorch dataset.\n",
        "<br> **Note:** you can use this command to install any git repository on colab. Many papers upload their code to github. This makes it easier to test or use their implementation with your dataset."
      ]
    },
    {
      "cell_type": "code",
      "metadata": {
        "id": "cvE7QPTN9L9a"
      },
      "source": [
        "# download imagenet-5\n",
        "!git clone https://github.com/thunderInfy/imagenet-5-categories.git"
      ],
      "execution_count": null,
      "outputs": []
    },
    {
      "cell_type": "code",
      "metadata": {
        "id": "xanwCNjz9MEw"
      },
      "source": [
        "import numpy as np\n",
        "import torch\n",
        "import torchvision\n",
        "from torchvision import transforms\n",
        "import torch.nn as nn\n",
        "import torch.optim as optim\n",
        "from torch.utils.data import Dataset, DataLoader\n",
        "import matplotlib.pyplot as plt\n",
        "from sklearn.manifold import TSNE\n",
        "from PIL import Image\n",
        "import os"
      ],
      "execution_count": null,
      "outputs": []
    },
    {
      "cell_type": "code",
      "metadata": {
        "id": "4oySMJWg9MG0"
      },
      "source": [
        "class ImageNetFive(Dataset):\n",
        "  def __init__(self, root_dir, transform, augment=True):\n",
        "    self.root_dir = root_dir\n",
        "    self.augment = augment\n",
        "    self.transform = transform\n",
        "    self.class_mappings = {'car': 0, 'dog': 1, 'elephant': 2, 'cat': 3, 'airplane': 4}\n",
        "    imgs_path = np.array(list(sorted(os.listdir(self.root_dir))))\n",
        "    labels = np.array([self.class_mappings[x.split('_')[0]] for x in imgs_path])\n",
        "    # reduce number of samples per class\n",
        "    self.imgs_path = []\n",
        "    self.labels = []\n",
        "    for l in np.unique(labels):\n",
        "      idx = np.where(labels == l)[0][:15].astype(int)\n",
        "      self.imgs_path += imgs_path[idx].tolist()\n",
        "      self.labels += labels[idx].tolist()\n",
        "\n",
        "  def __len__(self):\n",
        "    return len(self.imgs_path)\n",
        "\n",
        "  def __getitem__(self, idx):\n",
        "    if torch.is_tensor(idx):\n",
        "        idx = idx.tolist()\n",
        "    # load image from disk\n",
        "    img = Image.open(os.path.join(self.root_dir, self.imgs_path[idx]))\n",
        "    # get its label\n",
        "    label = self.labels[idx]\n",
        "\n",
        "    if self.augment:\n",
        "      # training mode - create two augmentations\n",
        "      aug_image1 = self.transform(img)\n",
        "      aug_image2 = self.transform(img)\n",
        "      sample = {'image1': aug_image1, 'image2': aug_image2, 'label': label}\n",
        "    else:\n",
        "      # test mode - no need for augmentations\n",
        "      image = self.transform(img)\n",
        "      sample = {'image': image, 'label': label}\n",
        "\n",
        "    return sample"
      ],
      "execution_count": null,
      "outputs": []
    },
    {
      "cell_type": "markdown",
      "metadata": {
        "id": "hMwncNWaCnVo"
      },
      "source": [
        "#### **2.2 Augmentations (10 points)**"
      ]
    },
    {
      "cell_type": "markdown",
      "metadata": {
        "id": "FOdMg11iBJbn"
      },
      "source": [
        "Before we dive into implementing the loss itself, let's implement a crucial part of the algorithm: Augmenting Images.\n",
        "\n",
        "During training, we are going to pick an image from the dataset and apply transformations to it to create two augmented images.\n",
        "We would later want the features of those two images to be similar in the embedding space but different from other images in the data.\n",
        "\n",
        "To apply transformations to an image we can use ```torchvision.transforms```.\n",
        "Go over the code below and see how the transformation for train images (```transform_train```) and test images (```transform_test```) are defined."
      ]
    },
    {
      "cell_type": "code",
      "metadata": {
        "id": "tKZWaoYI9MJC"
      },
      "source": [
        "# transformation on train images\n",
        "transform_train = transforms.Compose(\n",
        "    [\n",
        "      transforms.Resize((250, 250)), # resize image\n",
        "      transforms.RandomHorizontalFlip(p=0.5), # AUGMENTATION: Random Horizontal Flip\n",
        "      transforms.RandomResizedCrop(224), # AUGMENTATION: Random Cropping\n",
        "      transforms.ToTensor(), # numpy array to tensor\n",
        "      transforms.Normalize((0.5, 0.5, 0.5), (0.5, 0.5, 0.5)) # normalize the image\n",
        "     ])\n",
        "\n",
        "# basic transformation on test images\n",
        "transform_test = transforms.Compose(\n",
        "    [\n",
        "      transforms.Resize((224, 224)), # resize image\n",
        "      transforms.ToTensor(), # numpy array to tensor\n",
        "      transforms.Normalize((0.5, 0.5, 0.5), (0.5, 0.5, 0.5)) # normalize the image\n",
        "    ])"
      ],
      "execution_count": null,
      "outputs": []
    },
    {
      "cell_type": "markdown",
      "metadata": {
        "id": "5m0xXvdCfX56"
      },
      "source": [
        "Note that here, we have declared two types of ```transforms```: ```transform_train``` and ```transform_test```.\n",
        "During training we are going to load train images and apply ```transform_train``` on them **twice** (meaning, creating two image augmentations). During evaluation, we don't want to create augmentations, so only basic transformations are applied (resizing and normalizing, which should be done to every image in the data). For that we have ```transform_test```."
      ]
    },
    {
      "cell_type": "markdown",
      "metadata": {
        "id": "TabY5kMVhFkx"
      },
      "source": [
        "In the above ```transform_train``` we apply only two simple  augmentations to an image: ```RandomHorizontalFlip``` and ```RandomResizedCrop```. ```RandomHorizontalFlip``` flips the image randomly with a given probability (in our case 50%), while ```RandomResizedCrop``` crops the image to random size and aspect ratio.\n",
        "\n",
        "See the official documentation for many more: [Pytorch Transforms](https://pytorch.org/vision/stable/transforms.html#functional-transforms)."
      ]
    },
    {
      "cell_type": "markdown",
      "metadata": {
        "id": "-J4yUKTgE4Vd"
      },
      "source": [
        "Copy ```transform_train``` from above and add at least two more types of augmentations. You can use pytorch transforms or implement augmentations yourself."
      ]
    },
    {
      "cell_type": "code",
      "metadata": {
        "id": "dk99tDoZE20C"
      },
      "source": [
        "######################\n",
        "### YOUR CODE HERE ###\n",
        "######################\n",
        "# transform_train = ..."
      ],
      "execution_count": null,
      "outputs": []
    },
    {
      "cell_type": "markdown",
      "metadata": {
        "id": "9k8SCVxYiPog"
      },
      "source": [
        "We can now create datasets and dataloaders"
      ]
    },
    {
      "cell_type": "code",
      "metadata": {
        "id": "Yke2_oo5isID"
      },
      "source": [
        "# train-set with augmentations\n",
        "train_dataset = ImageNetFive(root_dir=\"imagenet-5-categories/train\", transform=transform_train, augment=True)\n",
        "# set train loader with augmentations\n",
        "train_loader = DataLoader(train_dataset, batch_size=75, shuffle=True)\n",
        "\n",
        "# train set without augmentation\n",
        "raw_train_dataset = ImageNetFive(root_dir=\"imagenet-5-categories/train\", transform=transform_test, augment=False)\n",
        "# set train loader without augmentation\n",
        "raw_train_loader = DataLoader(raw_train_dataset, batch_size=50, shuffle=True)\n",
        "\n",
        "# test-set\n",
        "test_dataset = ImageNetFive(root_dir=\"imagenet-5-categories/test\", transform=transform_test, augment=False)\n",
        "# test loader\n",
        "test_loader = DataLoader(test_dataset, batch_size=50, shuffle=False)"
      ],
      "execution_count": null,
      "outputs": []
    },
    {
      "cell_type": "markdown",
      "metadata": {
        "id": "6zjmXHU9lRDH"
      },
      "source": [
        "Let's see that it works as expected. We take a sample from the ```raw_train_dataset``` (the dataset where no augmentations are applied) and from ```train_dataset``` (dataset with augmentations)."
      ]
    },
    {
      "cell_type": "code",
      "metadata": {
        "id": "nrtec0TWkbUO"
      },
      "source": [
        "# take the first sample from raw_train_set\n",
        "first_raw_sample = raw_train_dataset[0]\n",
        "\n",
        "# take one sample (=two augmentations) from train_dataset\n",
        "first_aug_sample = train_dataset[0]\n",
        "# the result is a dicrtionary, so print its keys\n",
        "print(first_aug_sample.keys())"
      ],
      "execution_count": null,
      "outputs": []
    },
    {
      "cell_type": "markdown",
      "metadata": {
        "id": "K-PCWJKwl02h"
      },
      "source": [
        "From the output we can see that a sample of the train set with augmentations consists of two images: ```image1``` and ```image2``` which are both augmentations of an original ImageNet image.\n",
        "\n",
        "Let's visualize them:"
      ]
    },
    {
      "cell_type": "code",
      "metadata": {
        "id": "FGa41xxdlnhI"
      },
      "source": [
        "# first visualize original image\n",
        "plt.imshow(first_raw_sample['image'].permute(1, 2, 0))"
      ],
      "execution_count": null,
      "outputs": []
    },
    {
      "cell_type": "code",
      "metadata": {
        "id": "n8NWWaLvmF-S"
      },
      "source": [
        "# now visualize the two augmentations\n",
        "plt.subplot(1,2,1)\n",
        "plt.imshow(first_aug_sample['image1'].permute(1, 2, 0))\n",
        "plt.subplot(1,2,2)\n",
        "plt.imshow(first_aug_sample['image2'].permute(1, 2, 0))"
      ],
      "execution_count": null,
      "outputs": []
    },
    {
      "cell_type": "markdown",
      "metadata": {
        "id": "Zz_qub2DnhpJ"
      },
      "source": [
        "You should be able to see two *similar* images that were created from an original image."
      ]
    },
    {
      "cell_type": "markdown",
      "metadata": {
        "id": "Mw8Hv5qwfdQV"
      },
      "source": [
        "#### **2.4 Contrastive Loss (50 points)**"
      ]
    },
    {
      "cell_type": "markdown",
      "metadata": {
        "id": "VHhcSjfUBsEX"
      },
      "source": [
        "\n",
        "\n",
        "Now we can implement the loss function.\n",
        "SimCLR uses a contrastive loss called \"NT-Xent loss\" (Normalized Temperature-Scaled Cross-Entropy Loss)\n",
        "\n",
        "The loss is defined for a pair of images as:\n",
        "\n",
        "$$l_{i,j} = - \\log{\\frac{e^{sim(z_i,z_j)/\\tau}}{\\sum_{k=1}^{2N}{I_{[k\\not=i]}e^{sim(z_i,z_k)/\\tau}}}}$$\n",
        "\n",
        "\n",
        "where:\n",
        "- $z_i$ and $z_j$ are 1d representations (features) vectors of an augmented image $i$ and an augmented image $j$ respectively.\n",
        "- 2N is the batch size (N for the first type of augmentations + N for the second type of augmentations).\n",
        "- $sim(x,y)$ is the similarity function between two vectors **x** and **y**.\n",
        "- $\\tau$ is a temperature parameter used to scale the value returned by the similarity function.\n",
        "\n",
        "The loss for one single batch is then the contrastive loss between every two instances in the batch:\n",
        "\n",
        "$$ L = \\frac{1}{2N} \\sum_{i=1}^{N}{l(2i-1, 2i) + l(2i,2i-1)}  \\quad \\mathbf{(Eq. 1)}$$"
      ]
    },
    {
      "cell_type": "markdown",
      "metadata": {
        "id": "VaxGy74DMByC"
      },
      "source": [
        "The similarity function $sim(x,y)$ used in SimCLR is the **cosine similarity** between x and y. Which is simply the dot product of two normalized vectors.\n",
        "\n",
        "$$ sim(x,y) = \\frac{x^T \\cdot y}{||x||||y||} \\quad \\mathbf{(Eq. 2)}$$"
      ]
    },
    {
      "cell_type": "markdown",
      "metadata": {
        "id": "J1Fh3dBdCVtw"
      },
      "source": [
        "Implement the function ```cosine_similarity``` and ```contrastive_loss``` below. Don't forget to use torch functions so we can later do backpropagation and pass gradients\n",
        "\n",
        "**IMPORTANT:** You are **not** allowed to use ```nn.CosineSimilarity```, ```nn.CrossEntropyLoss``` or ```nn.Softmax```.\n",
        "Follow the comments we left for you in the cell, they should help you implement the loss efficiently.\n",
        "\n",
        "For numerical stability, use this log rule:\n",
        "\n",
        "$$ \\log{\\frac{e^x}{\\sum_y{e^y}}} = \\log(e^x) - \\log(\\sum_y{e^y}) = x - \\log(\\sum_y{e^y}) \\quad \\mathbf{(Eq. 3)}$$"
      ]
    },
    {
      "cell_type": "markdown",
      "metadata": {
        "id": "khRPWv1R9W6r"
      },
      "source": [
        "<font color='green'><b>\n",
        "Try to implement the functions below without loops!\n",
        "</b></font>"
      ]
    },
    {
      "cell_type": "code",
      "metadata": {
        "id": "uTkdsg3R9MLu"
      },
      "source": [
        "def pairwise_cosine_sim(X, Y):\n",
        "  '''\n",
        "  General implementation of Eq (2).\n",
        "  The function calculates the cosine similarity between each pair in X and Y:\n",
        "  X and Y are two batches of vectors and the function calculates the cosine similarity\n",
        "  between each pair and return a matrix with shape [|x|,|y|] where cell [i,j] is\n",
        "  the cosine similarity between X[i,:] and Y[j,:].\n",
        "  '''\n",
        "  ######################\n",
        "  ### YOUR CODE HERE ###\n",
        "  ######################\n",
        "  # Hint: Do not forget to normalize the vectors!\n",
        "  ######################\n",
        "\n",
        "def contrastive_loss(aug1_batch, aug2_batch, temperature=0.07):\n",
        "  '''\n",
        "  Implementation of Eq (1).\n",
        "  The function calculates the contrastive loss for the given image augmentation\n",
        "  batches (aug1_batch and aug2_batch).\n",
        "  '''\n",
        "  batch_size = aug1_batch.shape[0]\n",
        "  # 1. concat both batches to one big batch.\n",
        "  #    (Result shape should be: [2*batch_size, feat_dim])\n",
        "  representations = torch.cat([aug1_batch, aug2_batch], dim=0)\n",
        "\n",
        "  # 2. compute similarity between each pair in representations matrix.\n",
        "  #    use ```pairwise_cosine_sim``` funciton.\n",
        "  #    (Result shape should be: [2*batch_size, 2*batch_size])\n",
        "  similarity_matrix = pairwise_cosine_sim(representations, representations)\n",
        "\n",
        "  # 3. divide values by temperature\n",
        "  #    (Result shape should be: [2*batch_size, 2*batch_size])\n",
        "  similarity_matrix = torch.div(similarity_matrix, temperature)\n",
        "\n",
        "  # 4. calculate the denominator in the loss:\n",
        "  #    4.1.  apply exponent on all values\n",
        "  #          (Result shape should be: [2*batch_size, 2*batch_size])\n",
        "  exp_similarity_matrix = torch.exp(similarity_matrix)\n",
        "  #    4.2.  zero out similarities between samples to themselfs (remove the diagonal)\n",
        "  #          and calculate the sum for each row in the matrix\n",
        "  #          (Result shape should be: [2*batch_size])\n",
        "  denom = torch.sum(exp_similarity_matrix, dim=1) - torch.diag(exp_similarity_matrix)\n",
        "\n",
        "  # 5. calculate the log probabilities\n",
        "  #   5.1. log rule [Eq (3)]: # log(e^x/sum(y)) = x - log(sum(y))\n",
        "  #        (Result shape should be: [2*batch_size,2*batch_size])\n",
        "  log_prob = similarity_matrix - torch.log(denom)\n",
        "  #   5.2. take only the positives (loss numerator):\n",
        "  #        cells where the samples should be similar we want to maximize the similarity between them\n",
        "  #        (Result shape should be: [2*batch_size])\n",
        "  l_pos = torch.diag(log_prob, batch_size)\n",
        "  r_pos = torch.diag(log_prob, -batch_size)\n",
        "  log_prob_pos = torch.cat([l_pos, r_pos])\n",
        "\n",
        "  #  6. multiply by -1 and compute the mean (sum of log probabilities/(2*batch_size))\n",
        "  #    (Result shape should be: Scalar)\n",
        "  loss = -1 * log_prob_pos.sum() / (2*batch_size)\n",
        "  return loss"
      ],
      "execution_count": null,
      "outputs": []
    },
    {
      "cell_type": "markdown",
      "metadata": {
        "id": "4bMENmh-inuy"
      },
      "source": [
        "Test your implementation with the dummy example below:"
      ]
    },
    {
      "cell_type": "code",
      "metadata": {
        "id": "W4qDFdYOXDD4"
      },
      "source": [
        "batch_1 = torch.tensor([[-0.83483301, -0.16904167, 0.52390721],[ 0.70374682, -0.18682394, -0.68544673]])\n",
        "batch_2 = torch.tensor([[-0.83455951, -0.16862266, 0.52447767],[ 0.76652431,  0.61500886,  0.18494479]])\n",
        "contrastive_loss(batch_1, batch_2, temperature=1)"
      ],
      "execution_count": null,
      "outputs": []
    },
    {
      "cell_type": "markdown",
      "metadata": {
        "id": "yiRDXla9ivGq"
      },
      "source": [
        "If you implemented it correctly, the loss would be ```0.4068```."
      ]
    },
    {
      "cell_type": "markdown",
      "metadata": {
        "id": "UBmdbABllH4N"
      },
      "source": [
        "**Q1:**\n",
        "What is the goal of the temperature parameter $\\tau$? How does it affect the loss?"
      ]
    },
    {
      "cell_type": "markdown",
      "metadata": {
        "id": "GcFJAYFNlO5L"
      },
      "source": [
        "**A1:**\n",
        "<font color='red'>\n",
        "YOUR ANSWER HERE!\n",
        "</font>\n"
      ]
    },
    {
      "cell_type": "markdown",
      "metadata": {
        "id": "Mm6tPJaclP9T"
      },
      "source": [
        "**Q2:**\n",
        "**a.** What will be the value of the loss for a batch with 2N ***identical*** samples?\n",
        "**b.** In that case, will different temperature values change the loss?"
      ]
    },
    {
      "cell_type": "markdown",
      "metadata": {
        "id": "EzGTDmQRleTg"
      },
      "source": [
        "**A2**:\n",
        "<font color='red'>\n",
        "YOUR ANSWER HERE!\n",
        "</font>\n"
      ]
    },
    {
      "cell_type": "markdown",
      "metadata": {
        "id": "NmuV3yApHrrM"
      },
      "source": [
        "**Q3:** How does the batch size affect the contrastive loss? Does large batch size is better than small batch size when training a model with contrastive loss?\n",
        "\n",
        "Hint: Note that the loss calculates the exponent of the cosine similarity between each pair in the batch."
      ]
    },
    {
      "cell_type": "markdown",
      "metadata": {
        "id": "a9NkqHHuHskM"
      },
      "source": [
        "**A3**:"
      ]
    },
    {
      "cell_type": "markdown",
      "metadata": {
        "id": "OuHwzKWKCv_H"
      },
      "source": [
        "#### **2.5 Model (10 points)**"
      ]
    },
    {
      "cell_type": "markdown",
      "metadata": {
        "id": "hLWg8vu-Ckzq"
      },
      "source": [
        "The model in the SimCLR framework is composed of two parts:\n",
        "\n",
        "1. *Base Encoder* $f(\\cdot)$ - A convolutional neural network without a classifier. Its goal is to extract features (image representations) for each augmented image that is passed through it.\n",
        "Inputs: Augmented images $x_i$ and $x_j$\n",
        "Outputs: $h_i$ and $h_j$ - vector representations of the two images.\n",
        "\n",
        "2. *Projection Head* $g(\\cdot)$ - A simple fully connected neural network that takes the output of the base encoder and learns to map them to final image representations.\n",
        "Inputs: $h_i$ and $h_j$\n",
        "Outputs: $z_i$ and $z_j$.\n",
        "\n",
        "See the diagram below for visualization.\n",
        "\n",
        "Note that the vectors $z_i$ and $z_j$ have lower dimensions than $h_i$ and $h_j$."
      ]
    },
    {
      "cell_type": "markdown",
      "metadata": {
        "id": "ENOaOUB2x3HN"
      },
      "source": [
        "<center>\n",
        "<img src=\"data:image/png;base64,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\"\n",
        "</center>"
      ]
    },
    {
      "cell_type": "markdown",
      "metadata": {
        "id": "XxXuMFKB0tSf"
      },
      "source": [
        "Create a resnet18 instance (using torchvision) as the base encoder, and replace the classifier head with a projection head.\n",
        "The projection head architecture is as follows:\n",
        "\n",
        "A **fully connected layer** with 100 units, a **relu activation**, another **fully connected layer** with 40 units, a **relu activation** and finally an **output layer** with 20 units (so the final features will have dimention=20)."
      ]
    },
    {
      "cell_type": "code",
      "metadata": {
        "id": "cWKwueHvDXeC"
      },
      "source": [
        "def create_simclr_model():\n",
        "  # create new resnet18 as the base encoder\n",
        "  simclr_model = torchvision.models.resnet18(pretrained=False)\n",
        "  # change its classifier to a projection head\n",
        "  ######################\n",
        "  ### YOUR CODE HERE ###\n",
        "  ######################\n",
        "  return simclr_model"
      ],
      "execution_count": null,
      "outputs": []
    },
    {
      "cell_type": "markdown",
      "metadata": {
        "id": "89Nm8hkpDZlS"
      },
      "source": [
        "Let's implement a function for creating an SGD optimizer for a given model."
      ]
    },
    {
      "cell_type": "code",
      "metadata": {
        "id": "Rjh6hXSIYT8G"
      },
      "source": [
        "def create_optimizer(model, lr, momentum=0.9):\n",
        "  return optim.SGD(model.parameters(), lr=lr, momentum=momentum)"
      ],
      "execution_count": null,
      "outputs": []
    },
    {
      "cell_type": "markdown",
      "metadata": {
        "id": "14bHkPCSDFwC"
      },
      "source": [
        "#### **2.6 Training (10 points)**"
      ]
    },
    {
      "cell_type": "markdown",
      "metadata": {
        "id": "UkejWTTMDY4o"
      },
      "source": [
        "We can now finally train the model on the data.\n",
        "Implement the train function below. Use the ```contrastive loss``` you implemented above."
      ]
    },
    {
      "cell_type": "code",
      "metadata": {
        "id": "aDJP0f2ODDR1"
      },
      "source": [
        "def self_supervised_training(model, optimizer, train_dataloader, temperature=0.07,\n",
        "                             num_epochs=10, print_freq=30, device=\"cuda\"):\n",
        "  # move model to device\n",
        "  model = model.to(device)\n",
        "\n",
        "  for epoch in range(num_epochs):\n",
        "    model.train()\n",
        "    for (idx, aug_batch) in enumerate(train_dataloader):\n",
        "        ######################\n",
        "        ### YOUR CODE HERE ###\n",
        "        ######################\n",
        "        loss_value = loss.cpu().data.item()\n",
        "\n",
        "    if epoch % print_freq == 0:\n",
        "      print(f\"Epoch {epoch}, Contrastive loss={loss_value}\")\n",
        "\n",
        "  return model"
      ],
      "execution_count": null,
      "outputs": []
    },
    {
      "cell_type": "code",
      "metadata": {
        "id": "DT018kQZZSGS"
      },
      "source": [
        "# hyper params\n",
        "num_epochs = 30\n",
        "lr=0.003\n",
        "\n",
        "# Create new instance of the model\n",
        "simclr_model = create_simclr_model()\n",
        "# Create optimizer\n",
        "simclr_opt = create_optimizer(simclr_model, lr=lr, momentum=0.9)\n",
        "# Train the model\n",
        "simclr_model = self_supervised_training(simclr_model, simclr_opt, train_loader,\n",
        "                                        num_epochs=num_epochs, print_freq=5, device=\"cuda\")\n"
      ],
      "execution_count": null,
      "outputs": []
    },
    {
      "cell_type": "markdown",
      "metadata": {
        "id": "1wUZUKA_EDgK"
      },
      "source": [
        "You should see the loss slowly decreasing at every epoch."
      ]
    },
    {
      "cell_type": "markdown",
      "metadata": {
        "id": "BMybchNqDIFq"
      },
      "source": [
        "#### **2.7 Visualizations (20 points)**"
      ]
    },
    {
      "cell_type": "markdown",
      "metadata": {
        "id": "Gd5GKu2ZEBaF"
      },
      "source": [
        "So we trained the model for 10 epochs, and hopefully it now has good representations for each sample. That is, images from the same class are close to each other in the feature space.\n",
        "\n",
        "We would like to visualize the features. The problem is that the features are high dimensional vectors, and we can't plot vectors with dim > 3.\n",
        "What can we do?\n",
        "We can use T-SNE!\n",
        "t-Distributed Stochastic Neighbor Embedding (t-SNE) is an unsupervised, non-linear technique primarily used for data exploration and visualizing high-dimensional data. In simpler terms, t-SNE gives you a feel or intuition of how the data is arranged in a high-dimensional space."
      ]
    },
    {
      "cell_type": "markdown",
      "metadata": {
        "id": "3KDTDwXd_KNd"
      },
      "source": [
        "Let's visualize the train and test features using T-SNE:\n",
        "1. Using the trained model, extract the features from both the raw train set (using ```raw_train_loader``` and from the test set (using ```test_loader```).\n",
        "2. With T-SNE, reduce the dimension from 20 to 2.\n",
        "3. Use matplotlib to plot **two separate** scatter plots - one for each set. Color samples with the same labels with the same color! ([This](https://stackoverflow.com/questions/47006268/matplotlib-scatter-plot-with-color-label-and-legend-specified-by-c-option) might help you. )\n",
        "\n",
        "You can use [sklearn implementation](https://scikit-learn.org/stable/modules/generated/sklearn.manifold.TSNE.html) for T-SNE."
      ]
    },
    {
      "cell_type": "code",
      "metadata": {
        "id": "AXXi5muEfd-k"
      },
      "source": [
        "# set model in eval mode\n",
        "_ = simclr_model.eval()"
      ],
      "execution_count": null,
      "outputs": []
    },
    {
      "cell_type": "code",
      "metadata": {
        "id": "HZ2XYsM6EelF"
      },
      "source": [
        "feat_dim = 20\n",
        "\n",
        "def extract_features_and_labels(model, dataloader):\n",
        "  # create empty placeholders\n",
        "  features = torch.empty((0, feat_dim))\n",
        "  labels = torch.empty(0, dtype=torch.long)\n",
        "  for (_, batch) in enumerate(dataloader):\n",
        "    image = batch['image']\n",
        "    curr_labels = batch['label']\n",
        "    curr_feats = model(image.to(\"cuda\"))\n",
        "    features = torch.cat((features, curr_feats.cpu().detach()))\n",
        "    labels = torch.cat((labels, curr_labels))\n",
        "  return features.numpy(), labels.numpy()\n",
        "\n",
        "# 1.1 Extract train features\n",
        "train_features, train_labels = extract_features_and_labels(simclr_model, raw_train_loader)\n",
        "\n",
        "# 1.2 Extract test features\n",
        "test_features, test_labels = extract_features_and_labels(simclr_model, test_loader)"
      ],
      "execution_count": null,
      "outputs": []
    },
    {
      "cell_type": "code",
      "metadata": {
        "id": "oaVzzWFkhSxW"
      },
      "source": [
        "# 2. Reduce dimention with t-sne (from 20-d vectors to 2-d vectors)\n",
        "from sklearn.manifold import TSNE\n",
        "######################\n",
        "### YOUR CODE HERE ###\n",
        "######################"
      ],
      "execution_count": null,
      "outputs": []
    },
    {
      "cell_type": "code",
      "metadata": {
        "id": "vPzXj2ngiH-A"
      },
      "source": [
        "# 3. Plot the train and test features on a 2d plot using the embedded vectors extracted from TSNE\n",
        "# Do not forget to color samples with the same color if they have the same label\n",
        "classes = np.unique(train_labels)\n",
        "plt.rcParams[\"figure.figsize\"] = (13,5)\n",
        "######################\n",
        "### YOUR CODE HERE ###\n",
        "######################"
      ],
      "execution_count": null,
      "outputs": []
    },
    {
      "cell_type": "markdown",
      "metadata": {
        "id": "MfGVAo9WEg2j"
      },
      "source": [
        "If you implemented everything correctly, you should see that features from the same class (same color) are close to each other in the feature space."
      ]
    },
    {
      "cell_type": "markdown",
      "source": [
        "Now, you can change the data augmentations, hyperparameters etc. above.\n",
        "Share the notebook with the best implementation!"
      ],
      "metadata": {
        "id": "f2mJ_rJvV9CJ"
      }
    },
    {
      "cell_type": "code",
      "source": [],
      "metadata": {
        "id": "aUn3ExgOj3k0"
      },
      "execution_count": null,
      "outputs": []
    }
  ]
}